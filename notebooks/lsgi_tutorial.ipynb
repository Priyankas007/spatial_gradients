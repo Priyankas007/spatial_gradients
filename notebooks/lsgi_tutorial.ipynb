{
 "cells": [
  {
   "cell_type": "code",
   "execution_count": 1,
   "id": "dff15b71-890a-4642-b51e-8854da1cc787",
   "metadata": {},
   "outputs": [
    {
     "data": {
      "text/html": [
       "'/engelhardt/home/pshrestha/anaconda3/envs/r_env/lib/R/bin'"
      ],
      "text/latex": [
       "'/engelhardt/home/pshrestha/anaconda3/envs/r\\_env/lib/R/bin'"
      ],
      "text/markdown": [
       "'/engelhardt/home/pshrestha/anaconda3/envs/r_env/lib/R/bin'"
      ],
      "text/plain": [
       "[1] \"/engelhardt/home/pshrestha/anaconda3/envs/r_env/lib/R/bin\""
      ]
     },
     "metadata": {},
     "output_type": "display_data"
    }
   ],
   "source": [
    "R.home(\"bin\") "
   ]
  },
  {
   "cell_type": "code",
   "execution_count": 2,
   "id": "7e454734-7da1-4695-b880-d0d78aa43a59",
   "metadata": {},
   "outputs": [
    {
     "name": "stderr",
     "output_type": "stream",
     "text": [
      "Downloading GitHub repo qingnanl/LSGI@HEAD\n",
      "\n"
     ]
    },
    {
     "name": "stdout",
     "output_type": "stream",
     "text": [
      "bslib       (0.8.0 -> 0.9.0  ) [CRAN]\n",
      "textshaping (NA    -> 1.0.0  ) [CRAN]\n",
      "readxl      (NA    -> 1.4.3  ) [CRAN]\n",
      "ragg        (NA    -> 1.3.3  ) [CRAN]\n",
      "haven       (NA    -> 2.5.4  ) [CRAN]\n",
      "tidyverse   (NA    -> 2.0.0  ) [CRAN]\n",
      "anticlust   (0.6.1 -> 0.8.9-1) [CRAN]\n"
     ]
    },
    {
     "name": "stderr",
     "output_type": "stream",
     "text": [
      "Skipping 1 packages not available: ComplexHeatmap\n",
      "\n",
      "Installing 8 packages: bslib, textshaping, readxl, ragg, haven, ComplexHeatmap, tidyverse, anticlust\n",
      "\n",
      "Warning message:\n",
      "“package ‘ComplexHeatmap’ is not available for this version of R\n",
      "\n",
      "A version of this package for your version of R might be available elsewhere,\n",
      "see the ideas at\n",
      "https://cran.r-project.org/doc/manuals/r-patched/R-admin.html#Installing-packages”\n",
      "Warning message in i.p(...):\n",
      "“installation of package ‘textshaping’ had non-zero exit status”\n",
      "Warning message in i.p(...):\n",
      "“installation of package ‘readxl’ had non-zero exit status”\n",
      "Warning message in i.p(...):\n",
      "“installation of package ‘haven’ had non-zero exit status”\n",
      "Warning message in i.p(...):\n",
      "“installation of package ‘ragg’ had non-zero exit status”\n",
      "Warning message in i.p(...):\n",
      "“installation of package ‘tidyverse’ had non-zero exit status”\n",
      "Updating HTML index of packages in '.Library'\n",
      "\n",
      "Making 'packages.html' ...\n",
      " done\n",
      "\n"
     ]
    },
    {
     "name": "stdout",
     "output_type": "stream",
     "text": [
      "\u001b[36m──\u001b[39m \u001b[36mR CMD build\u001b[39m \u001b[36m─────────────────────────────────────────────────────────────────\u001b[39m\n",
      "\u001b[32m✔\u001b[39m  \u001b[90mchecking for file ‘/tmp/RtmpMm71C2/remotes2d0f8b320b7ff9/qingnanl-LSGI-cd7b5c8/DESCRIPTION’\u001b[39m\u001b[36m\u001b[39m\n",
      "\u001b[90m─\u001b[39m\u001b[90m  \u001b[39m\u001b[90mpreparing ‘LSGI’:\u001b[39m\u001b[36m\u001b[39m\n",
      "\u001b[32m✔\u001b[39m  \u001b[90mchecking DESCRIPTION meta-information\u001b[39m\u001b[36m\u001b[39m\n",
      "\u001b[90m─\u001b[39m\u001b[90m  \u001b[39m\u001b[90mchecking for LF line-endings in source and make files and shell scripts\u001b[39m\u001b[36m\u001b[39m\n",
      "\u001b[90m─\u001b[39m\u001b[90m  \u001b[39m\u001b[90mchecking for empty or unneeded directories\u001b[39m\u001b[36m\u001b[39m\n",
      "   Omitted ‘LazyData’ from DESCRIPTION\n",
      "\u001b[90m─\u001b[39m\u001b[90m  \u001b[39m\u001b[90mbuilding ‘LSGI_0.1.0.tar.gz’\u001b[39m\u001b[36m\u001b[39m\n",
      "   Warning: invalid uid value replaced by that for user 'nobody'\n",
      "   \n"
     ]
    },
    {
     "name": "stderr",
     "output_type": "stream",
     "text": [
      "Warning message in i.p(...):\n",
      "“installation of package ‘/tmp/RtmpMm71C2/file2d0f8b27b86dc5/LSGI_0.1.0.tar.gz’ had non-zero exit status”\n"
     ]
    }
   ],
   "source": [
    "#test R Kernel\n",
    "#install.packages(\"Seurat\")\n",
    "#library(ggplot2)            # Load the package\n",
    "#print(\"R is working!\")\n",
    "remotes::install_github(\"https://github.com/qingnanl/LSGI\")"
   ]
  },
  {
   "cell_type": "code",
   "execution_count": 1,
   "id": "74b469ac-6de0-407a-be26-d621e3f78e33",
   "metadata": {},
   "outputs": [
    {
     "name": "stderr",
     "output_type": "stream",
     "text": [
      "Warning message:\n",
      "“package ‘Matrix’ was built under R version 4.3.3”\n",
      "Warning message:\n",
      "“package ‘Seurat’ was built under R version 4.3.3”\n",
      "Loading required package: SeuratObject\n",
      "\n",
      "Warning message:\n",
      "“package ‘SeuratObject’ was built under R version 4.3.3”\n",
      "Loading required package: sp\n",
      "\n",
      "Warning message:\n",
      "“package ‘sp’ was built under R version 4.3.3”\n",
      "\n",
      "Attaching package: ‘SeuratObject’\n",
      "\n",
      "\n",
      "The following objects are masked from ‘package:base’:\n",
      "\n",
      "    intersect, t\n",
      "\n",
      "\n",
      "Warning message:\n",
      "“package ‘ggplot2’ was built under R version 4.3.3”\n",
      "Warning message:\n",
      "“package ‘dplyr’ was built under R version 4.3.3”\n",
      "\n",
      "Attaching package: ‘dplyr’\n",
      "\n",
      "\n",
      "The following objects are masked from ‘package:stats’:\n",
      "\n",
      "    filter, lag\n",
      "\n",
      "\n",
      "The following objects are masked from ‘package:base’:\n",
      "\n",
      "    intersect, setdiff, setequal, union\n",
      "\n",
      "\n"
     ]
    },
    {
     "ename": "ERROR",
     "evalue": "Error in library(LSGI): there is no package called ‘LSGI’\n",
     "output_type": "error",
     "traceback": [
      "Error in library(LSGI): there is no package called ‘LSGI’\nTraceback:\n",
      "1. stop(packageNotFoundError(package, lib.loc, sys.call()))"
     ]
    }
   ],
   "source": [
    "library(Matrix)\n",
    "library(Seurat)\n",
    "library(RcppML)  # https://github.com/zdebruine/RcppML\n",
    "library(ggplot2)\n",
    "library(dplyr)\n",
    "library(LSGI)"
   ]
  },
  {
   "cell_type": "code",
   "execution_count": 10,
   "id": "99e24322-724e-4b7a-baf2-204b2297e091",
   "metadata": {},
   "outputs": [
    {
     "ename": "ERROR",
     "evalue": "Error in png::readPNG(source = file.path(image.dir, image.name)): unable to open C:/Users/liang/work/42_LSGI/LSGI.test/Visium_FFPE_Human_Breast_Cancer_spatial//tissue_lowres_image.png\n",
     "output_type": "error",
     "traceback": [
      "Error in png::readPNG(source = file.path(image.dir, image.name)): unable to open C:/Users/liang/work/42_LSGI/LSGI.test/Visium_FFPE_Human_Breast_Cancer_spatial//tissue_lowres_image.png\nTraceback:\n",
      "1. png::readPNG(source = file.path(image.dir, image.name))",
      "2. .handleSimpleError(function (cnd) \n . {\n .     watcher$capture_plot_and_output()\n .     cnd <- sanitize_call(cnd)\n .     watcher$push(cnd)\n .     switch(on_error, continue = invokeRestart(\"eval_continue\"), \n .         stop = invokeRestart(\"eval_stop\"), error = NULL)\n . }, \"unable to open C:/Users/liang/work/42_LSGI/LSGI.test/Visium_FFPE_Human_Breast_Cancer_spatial//tissue_lowres_image.png\", \n .     base::quote(png::readPNG(source = file.path(image.dir, image.name))))"
     ]
    }
   ],
   "source": [
    "img <- Read10X_Image(image.dir = \"C:/Users/liang/work/42_LSGI/LSGI.test/Visium_FFPE_Human_Breast_Cancer_spatial/\",\n",
    "    image.name = \"tissue_lowres_image.png\", filter.matrix = TRUE)\n",
    "data <- Load10X_Spatial(data.dir = \"C:/Users/liang/work/42_LSGI/LSGI.test/\",\n",
    "    filename = \"Visium_FFPE_Human_Breast_Cancer_filtered_feature_bc_matrix.h5\",\n",
    "    assay = \"RNA\", slice = \"slice1\", filter.matrix = TRUE, to.upper = FALSE,\n",
    "    image = img)\n",
    "\n",
    "data <- NormalizeData(data)"
   ]
  },
  {
   "cell_type": "code",
   "execution_count": null,
   "id": "8dcd6625-7d16-41d0-ad17-b9d7627ce020",
   "metadata": {},
   "outputs": [],
   "source": []
  }
 ],
 "metadata": {
  "kernelspec": {
   "display_name": "R",
   "language": "R",
   "name": "ir"
  },
  "language_info": {
   "codemirror_mode": "r",
   "file_extension": ".r",
   "mimetype": "text/x-r-source",
   "name": "R",
   "pygments_lexer": "r",
   "version": "4.3.1"
  }
 },
 "nbformat": 4,
 "nbformat_minor": 5
}
